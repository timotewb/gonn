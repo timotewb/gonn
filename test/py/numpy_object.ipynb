{
 "cells": [
  {
   "cell_type": "code",
   "execution_count": 1,
   "metadata": {},
   "outputs": [],
   "source": [
    "import numpy as np"
   ]
  },
  {
   "cell_type": "code",
   "execution_count": 2,
   "metadata": {},
   "outputs": [
    {
     "name": "stdout",
     "output_type": "stream",
     "text": [
      "[[[1.  2.  3. ]\n",
      "  [1.  2.  3.5]\n",
      "  [1.  2.  4. ]]\n",
      "\n",
      " [[1.  2.  3. ]\n",
      "  [1.  2.  3.5]\n",
      "  [1.  2.  4. ]]]\n"
     ]
    }
   ],
   "source": [
    "x = [[[1,2,3],[1,2,3.5],[1,2,4]],[[1,2,3],[1,2,3.5],[1,2,4]]]\n",
    "\n",
    "xArray = np.array(x)\n",
    "print(xArray)"
   ]
  },
  {
   "cell_type": "code",
   "execution_count": 3,
   "metadata": {},
   "outputs": [
    {
     "data": {
      "text/plain": [
       "array([[[3. , 4. , 5. ],\n",
       "        [3. , 4. , 5.5],\n",
       "        [3. , 4. , 6. ]],\n",
       "\n",
       "       [[3. , 4. , 5. ],\n",
       "        [3. , 4. , 5.5],\n",
       "        [3. , 4. , 6. ]]])"
      ]
     },
     "execution_count": 3,
     "metadata": {},
     "output_type": "execute_result"
    }
   ],
   "source": [
    "xArray + 2"
   ]
  },
  {
   "cell_type": "code",
   "execution_count": 5,
   "metadata": {},
   "outputs": [
    {
     "data": {
      "text/plain": [
       "array([[[2., 4., 6.],\n",
       "        [2., 4., 7.],\n",
       "        [2., 4., 8.]],\n",
       "\n",
       "       [[2., 4., 6.],\n",
       "        [2., 4., 7.],\n",
       "        [2., 4., 8.]]])"
      ]
     },
     "execution_count": 5,
     "metadata": {},
     "output_type": "execute_result"
    }
   ],
   "source": [
    "np.add(xArray, xArray)"
   ]
  },
  {
   "cell_type": "code",
   "execution_count": 10,
   "metadata": {},
   "outputs": [
    {
     "name": "stdout",
     "output_type": "stream",
     "text": [
      "[[1.  2.  3. ]\n",
      " [1.5 2.5 3.5]]\n",
      "[2 3 4]\n"
     ]
    }
   ],
   "source": [
    "x = [[1,2,3],[1.5,2.5,3.5]]\n",
    "y = [2,3,4]\n",
    "xArray = np.array(x)\n",
    "yArray = np.array(y)\n",
    "print(xArray)\n",
    "print(yArray)"
   ]
  },
  {
   "cell_type": "code",
   "execution_count": 11,
   "metadata": {},
   "outputs": [
    {
     "data": {
      "text/plain": [
       "array([[3. , 5. , 7. ],\n",
       "       [3.5, 5.5, 7.5]])"
      ]
     },
     "execution_count": 11,
     "metadata": {},
     "output_type": "execute_result"
    }
   ],
   "source": [
    "np.add(xArray, yArray)"
   ]
  },
  {
   "cell_type": "code",
   "execution_count": null,
   "metadata": {},
   "outputs": [],
   "source": []
  }
 ],
 "metadata": {
  "kernelspec": {
   "display_name": ".venv",
   "language": "python",
   "name": "python3"
  },
  "language_info": {
   "codemirror_mode": {
    "name": "ipython",
    "version": 3
   },
   "file_extension": ".py",
   "mimetype": "text/x-python",
   "name": "python",
   "nbconvert_exporter": "python",
   "pygments_lexer": "ipython3",
   "version": "3.10.13"
  }
 },
 "nbformat": 4,
 "nbformat_minor": 2
}
