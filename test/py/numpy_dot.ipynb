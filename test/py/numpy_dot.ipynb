{
 "cells": [
  {
   "cell_type": "markdown",
   "metadata": {},
   "source": [
    "# numpy.dot()"
   ]
  },
  {
   "cell_type": "code",
   "execution_count": 2,
   "metadata": {},
   "outputs": [],
   "source": [
    "import numpy as np"
   ]
  },
  {
   "cell_type": "markdown",
   "metadata": {},
   "source": [
    "### Test 01 - 1D multiplication\n",
    "In this test two single dimension arrays are multiplied together. <br>\n",
    "This resultings in  formula: `sum(x0*y0 + x1*y1 +...)`"
   ]
  },
  {
   "cell_type": "code",
   "execution_count": 3,
   "metadata": {},
   "outputs": [
    {
     "name": "stdout",
     "output_type": "stream",
     "text": [
      "14\n"
     ]
    }
   ],
   "source": [
    "x = [1,2,3]\n",
    "y = [1,2,3]\n",
    "xArray = np.array(x)\n",
    "yArray = np.array(y)\n",
    "r = np.dot(xArray, yArray)\n",
    "\n",
    "print(r)"
   ]
  },
  {
   "cell_type": "markdown",
   "metadata": {},
   "source": [
    "### Test 02 - 2D multiplication"
   ]
  },
  {
   "cell_type": "markdown",
   "metadata": {},
   "source": [
    "In this test two, two dimensional arrays are multiplied together. <br>\n",
    "This code fails due to the incompatible shapes of the two inputs."
   ]
  },
  {
   "cell_type": "code",
   "execution_count": 4,
   "metadata": {},
   "outputs": [
    {
     "ename": "ValueError",
     "evalue": "shapes (2,3) and (2,3) not aligned: 3 (dim 1) != 2 (dim 0)",
     "output_type": "error",
     "traceback": [
      "\u001b[0;31m---------------------------------------------------------------------------\u001b[0m",
      "\u001b[0;31mValueError\u001b[0m                                Traceback (most recent call last)",
      "Cell \u001b[0;32mIn[4], line 5\u001b[0m\n\u001b[1;32m      3\u001b[0m xArray \u001b[38;5;241m=\u001b[39m np\u001b[38;5;241m.\u001b[39marray(x)\n\u001b[1;32m      4\u001b[0m yArray \u001b[38;5;241m=\u001b[39m np\u001b[38;5;241m.\u001b[39marray(y)\n\u001b[0;32m----> 5\u001b[0m r \u001b[38;5;241m=\u001b[39m \u001b[43mnp\u001b[49m\u001b[38;5;241;43m.\u001b[39;49m\u001b[43mdot\u001b[49m\u001b[43m(\u001b[49m\u001b[43mxArray\u001b[49m\u001b[43m,\u001b[49m\u001b[43m \u001b[49m\u001b[43myArray\u001b[49m\u001b[43m)\u001b[49m\n\u001b[1;32m      7\u001b[0m \u001b[38;5;28mprint\u001b[39m(r)\n\u001b[1;32m      8\u001b[0m \u001b[38;5;28mprint\u001b[39m(yArray\u001b[38;5;241m.\u001b[39mT)\n",
      "\u001b[0;31mValueError\u001b[0m: shapes (2,3) and (2,3) not aligned: 3 (dim 1) != 2 (dim 0)"
     ]
    }
   ],
   "source": [
    "x = [[1,2,3],[1,2,3]]\n",
    "y = [[1,2,3],[1,2,3]]\n",
    "xArray = np.array(x)\n",
    "yArray = np.array(y)\n",
    "r = np.dot(xArray, yArray)\n",
    "\n",
    "print(r)\n",
    "print(yArray.T)"
   ]
  },
  {
   "cell_type": "markdown",
   "metadata": {},
   "source": [
    "### Test 03 - 2D multiplication w. compatible shape"
   ]
  },
  {
   "cell_type": "markdown",
   "metadata": {},
   "source": [
    "In this test two, two dimensional arrays are multiplied together. <br>\n",
    "The difference between <b>Test 02</b> and <b>Test 03</b> is the shape of array `y` <br>\n",
    "whihc is transposed so `x` and `y` arrays have compatible shapes."
   ]
  },
  {
   "cell_type": "code",
   "execution_count": 5,
   "metadata": {},
   "outputs": [
    {
     "name": "stdout",
     "output_type": "stream",
     "text": [
      "[[14 14]\n",
      " [14 14]]\n"
     ]
    }
   ],
   "source": [
    "x = [[1,2,3],[1,2,3]]\n",
    "y = [[1,1],[2,2],[3,3]]\n",
    "xArray = np.array(x)\n",
    "yArray = np.array(y)\n",
    "r = np.dot(xArray, yArray)\n",
    "\n",
    "print(r)"
   ]
  },
  {
   "cell_type": "markdown",
   "metadata": {},
   "source": [
    "### Test 04 - 2D multiplication w. different compatible shape"
   ]
  },
  {
   "cell_type": "markdown",
   "metadata": {},
   "source": [
    "In this test two, two dimensional arrays are multiplied together. <br>\n",
    "The difference between <b>Test 03</b> and <b>Test 04</b> is the shape of array `y`."
   ]
  },
  {
   "cell_type": "code",
   "execution_count": null,
   "metadata": {},
   "outputs": [
    {
     "name": "stdout",
     "output_type": "stream",
     "text": [
      "[[ 6 12 18 24 30]\n",
      " [ 6 12 18 24 30]]\n"
     ]
    }
   ],
   "source": [
    "x = [[1,2,3],[1,2,3]]\n",
    "y = [[1,2,3,4,5],[1,2,3,4,5],[1,2,3,4,5]]\n",
    "xArray = np.array(x)\n",
    "yArray = np.array(y)\n",
    "r = np.dot(xArray, yArray)\n",
    "\n",
    "print(r)"
   ]
  },
  {
   "cell_type": "markdown",
   "metadata": {},
   "source": [
    "### Test 05 - 2D with single float"
   ]
  },
  {
   "cell_type": "code",
   "execution_count": null,
   "metadata": {},
   "outputs": [
    {
     "name": "stdout",
     "output_type": "stream",
     "text": [
      "[[[1.2  2.4  3.72]\n",
      "  [1.2  2.4  3.72]]]\n"
     ]
    }
   ],
   "source": [
    "x = 1.2\n",
    "y = [[[1,2,3.1],[1,2,3.1]]]\n",
    "xArray = np.array(x)\n",
    "yArray = np.array(y)\n",
    "r = np.dot(xArray, yArray)\n",
    "\n",
    "print(r)"
   ]
  },
  {
   "cell_type": "markdown",
   "metadata": {},
   "source": [
    "### Test 06 - 3D with single float"
   ]
  },
  {
   "cell_type": "code",
   "execution_count": null,
   "metadata": {},
   "outputs": [
    {
     "name": "stdout",
     "output_type": "stream",
     "text": [
      "[[[[2.1 4.2 6.3]\n",
      "   [2.1 4.2 6.3]]\n",
      "\n",
      "  [[2.1 4.2 6.3]\n",
      "   [2.1 4.2 6.3]]\n",
      "\n",
      "  [[2.1 4.2 6.3]\n",
      "   [2.1 4.2 6.3]]]]\n"
     ]
    }
   ],
   "source": [
    "x = 2.1\n",
    "y = [[[[1,2,3],[1,2,3]],[[1,2,3],[1,2,3]],[[1,2,3],[1,2,3]]]]\n",
    "xArray = np.array(x)\n",
    "yArray = np.array(y)\n",
    "r = np.dot(xArray, yArray)\n",
    "\n",
    "print(r)"
   ]
  },
  {
   "cell_type": "markdown",
   "metadata": {},
   "source": [
    "### Test 07 - 3D with 1D"
   ]
  },
  {
   "cell_type": "code",
   "execution_count": null,
   "metadata": {},
   "outputs": [
    {
     "ename": "ValueError",
     "evalue": "shapes (2,3) and (1,3,2,3) not aligned: 3 (dim 1) != 2 (dim 2)",
     "output_type": "error",
     "traceback": [
      "\u001b[0;31m---------------------------------------------------------------------------\u001b[0m",
      "\u001b[0;31mValueError\u001b[0m                                Traceback (most recent call last)",
      "Cell \u001b[0;32mIn[8], line 5\u001b[0m\n\u001b[1;32m      3\u001b[0m xArray \u001b[38;5;241m=\u001b[39m np\u001b[38;5;241m.\u001b[39marray(x)\n\u001b[1;32m      4\u001b[0m yArray \u001b[38;5;241m=\u001b[39m np\u001b[38;5;241m.\u001b[39marray(y)\n\u001b[0;32m----> 5\u001b[0m r \u001b[38;5;241m=\u001b[39m \u001b[43mnp\u001b[49m\u001b[38;5;241;43m.\u001b[39;49m\u001b[43mdot\u001b[49m\u001b[43m(\u001b[49m\u001b[43mxArray\u001b[49m\u001b[43m,\u001b[49m\u001b[43m \u001b[49m\u001b[43myArray\u001b[49m\u001b[43m)\u001b[49m\n\u001b[1;32m      7\u001b[0m \u001b[38;5;28mprint\u001b[39m(xArray\u001b[38;5;241m.\u001b[39mshape)\n\u001b[1;32m      8\u001b[0m \u001b[38;5;28mprint\u001b[39m(yArray\u001b[38;5;241m.\u001b[39mshape)\n",
      "\u001b[0;31mValueError\u001b[0m: shapes (2,3) and (1,3,2,3) not aligned: 3 (dim 1) != 2 (dim 2)"
     ]
    }
   ],
   "source": [
    "x = [[1,2,3],[1,2,3]]\n",
    "y = [[[[1,2,3],[1,2,3]],[[1,2,3],[1,2,3]],[[1,2,3],[1,2,3]]]]\n",
    "xArray = np.array(x)\n",
    "yArray = np.array(y)\n",
    "r = np.dot(xArray, yArray)\n",
    "\n",
    "print(xArray.shape)\n",
    "print(yArray.shape)\n",
    "print(r)"
   ]
  },
  {
   "cell_type": "markdown",
   "metadata": {},
   "source": [
    "### Test 08 - multidimension by 1D multiplication\n",
    "In this test, a matrix is multiplied by an array.<br>\n",
    "The shape must match (e.g. 3,4 and 4,)"
   ]
  },
  {
   "cell_type": "code",
   "execution_count": 7,
   "metadata": {},
   "outputs": [
    {
     "name": "stdout",
     "output_type": "stream",
     "text": [
      "(2, 3, 3)\n",
      "(3,)\n",
      "[[14.  15.5 17. ]\n",
      " [14.5 16.  17.5]]\n",
      "(2, 3)\n"
     ]
    }
   ],
   "source": [
    "x = [[[1,2,3],[1,2,3.5],[1,2,4]],[[1.5,2,3],[1.5,2,3.5],[1.5,2,4]]]\n",
    "y = [1,2,3]\n",
    "xArray = np.array(x)\n",
    "yArray = np.array(y)\n",
    "r = np.dot(xArray, yArray)\n",
    "\n",
    "\n",
    "print(xArray.shape)\n",
    "print(yArray.shape)\n",
    "print(r)\n",
    "print(r.shape)"
   ]
  },
  {
   "cell_type": "code",
   "execution_count": null,
   "metadata": {},
   "outputs": [
    {
     "name": "stdout",
     "output_type": "stream",
     "text": [
      "(2, 4, 3)\n",
      "(3,)\n",
      "[[14.  15.5 17.  17. ]\n",
      " [14.  15.5 17.  17. ]]\n",
      "(2, 4)\n"
     ]
    }
   ],
   "source": [
    "x = [[[1,2,3],[1,2,3.5],[1,2,4]],[[1,2,3],[1,2,3.5],[1,2,4]]]\n",
    "y = [1,2,3]\n",
    "xArray = np.array(x)\n",
    "yArray = np.array(y)\n",
    "r = np.dot(xArray, yArray)\n",
    "\n",
    "\n",
    "print(xArray.shape)\n",
    "print(yArray.shape)\n",
    "print(r)\n",
    "print(r.shape)"
   ]
  },
  {
   "cell_type": "code",
   "execution_count": null,
   "metadata": {},
   "outputs": [
    {
     "name": "stdout",
     "output_type": "stream",
     "text": [
      "(3, 3, 3)\n",
      "(3,)\n",
      "[[14.  15.5 17. ]\n",
      " [14.  15.5 17. ]\n",
      " [14.  15.5 17. ]]\n"
     ]
    }
   ],
   "source": [
    "x = [[[1,2,3],[1,2,3.5],[1,2,4]],[[1,2,3],[1,2,3.5],[1,2,4]],[[1,2,3],[1,2,3.5],[1,2,4]]]\n",
    "y = [1,2,3]\n",
    "xArray = np.array(x)\n",
    "yArray = np.array(y)\n",
    "r = np.dot(xArray, yArray)\n",
    "\n",
    "\n",
    "print(xArray.shape)\n",
    "print(yArray.shape)\n",
    "print(r)"
   ]
  },
  {
   "cell_type": "code",
   "execution_count": null,
   "metadata": {},
   "outputs": [],
   "source": []
  }
 ],
 "metadata": {
  "kernelspec": {
   "display_name": ".venv",
   "language": "python",
   "name": "python3"
  },
  "language_info": {
   "codemirror_mode": {
    "name": "ipython",
    "version": 3
   },
   "file_extension": ".py",
   "mimetype": "text/x-python",
   "name": "python",
   "nbconvert_exporter": "python",
   "pygments_lexer": "ipython3",
   "version": "3.10.13"
  }
 },
 "nbformat": 4,
 "nbformat_minor": 2
}
