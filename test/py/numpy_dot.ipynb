{
 "cells": [
  {
   "cell_type": "markdown",
   "metadata": {},
   "source": [
    "# numpy.dot()"
   ]
  },
  {
   "cell_type": "code",
   "execution_count": 1,
   "metadata": {},
   "outputs": [],
   "source": [
    "import numpy as np"
   ]
  },
  {
   "cell_type": "markdown",
   "metadata": {},
   "source": [
    "### Test 01 - 1D multiplication\n",
    "In this test two single dimension arrays are multiplied together. <br>\n",
    "This resultings in  formula: `sum(x0*y0 + x1*y1 +...)`"
   ]
  },
  {
   "cell_type": "code",
   "execution_count": 2,
   "metadata": {},
   "outputs": [
    {
     "name": "stdout",
     "output_type": "stream",
     "text": [
      "14\n"
     ]
    }
   ],
   "source": [
    "x = [1,2,3]\n",
    "y = [1,2,3]\n",
    "xArray = np.array(x)\n",
    "yArray = np.array(y)\n",
    "r = np.dot(xArray, yArray)\n",
    "\n",
    "print(r)"
   ]
  },
  {
   "cell_type": "markdown",
   "metadata": {},
   "source": [
    "### Test 02 - 2D multiplication"
   ]
  },
  {
   "cell_type": "markdown",
   "metadata": {},
   "source": [
    "In this test two, two dimensional arrays are multiplied together. <br>\n",
    "This code fails due to the incompatible shapes of the two inputs."
   ]
  },
  {
   "cell_type": "code",
   "execution_count": 7,
   "metadata": {},
   "outputs": [
    {
     "name": "stdout",
     "output_type": "stream",
     "text": [
      "[[14 14]\n",
      " [14 14]]\n",
      "[[1 1]\n",
      " [2 2]\n",
      " [3 3]]\n"
     ]
    }
   ],
   "source": [
    "x = [[1,2,3],[1,2,3]]\n",
    "y = [[1,2,3],[1,2,3]]\n",
    "xArray = np.array(x)\n",
    "yArray = np.array(y)\n",
    "r = np.dot(xArray, yArray.T)\n",
    "\n",
    "print(r)\n",
    "print(yArray.T)"
   ]
  },
  {
   "cell_type": "markdown",
   "metadata": {},
   "source": [
    "### Test 03 - 2D multiplication w. compatible shape"
   ]
  },
  {
   "cell_type": "markdown",
   "metadata": {},
   "source": [
    "In this test two, two dimensional arrays are multiplied together. <br>\n",
    "The difference between <b>Test 02</b> and <b>Test 03</b> is the shape of array `y` <br>\n",
    "whihc is transposed so `x` and `y` arrays have compatible shapes."
   ]
  },
  {
   "cell_type": "code",
   "execution_count": 8,
   "metadata": {},
   "outputs": [
    {
     "name": "stdout",
     "output_type": "stream",
     "text": [
      "[[14 14]\n",
      " [14 14]]\n"
     ]
    }
   ],
   "source": [
    "x = [[1,2,3],[1,2,3]]\n",
    "y = [[1,1],[2,2],[3,3]]\n",
    "xArray = np.array(x)\n",
    "yArray = np.array(y)\n",
    "r = np.dot(xArray, yArray)\n",
    "\n",
    "print(r)"
   ]
  },
  {
   "cell_type": "markdown",
   "metadata": {},
   "source": [
    "### Test 04 - 2D multiplication w. different compatible shape"
   ]
  },
  {
   "cell_type": "markdown",
   "metadata": {},
   "source": [
    "In this test two, two dimensional arrays are multiplied together. <br>\n",
    "The difference between <b>Test 03</b> and <b>Test 04</b> is the shape of array `y`."
   ]
  },
  {
   "cell_type": "code",
   "execution_count": 10,
   "metadata": {},
   "outputs": [
    {
     "name": "stdout",
     "output_type": "stream",
     "text": [
      "[[ 6 12 18 24 30]\n",
      " [ 6 12 18 24 30]]\n"
     ]
    }
   ],
   "source": [
    "x = [[1,2,3],[1,2,3]]\n",
    "y = [[1,2,3,4,5],[1,2,3,4,5],[1,2,3,4,5]]\n",
    "xArray = np.array(x)\n",
    "yArray = np.array(y)\n",
    "r = np.dot(xArray, yArray)\n",
    "\n",
    "print(r)"
   ]
  },
  {
   "cell_type": "markdown",
   "metadata": {},
   "source": [
    "### Test 05 - 3D multiplication"
   ]
  },
  {
   "cell_type": "code",
   "execution_count": 14,
   "metadata": {},
   "outputs": [
    {
     "name": "stdout",
     "output_type": "stream",
     "text": [
      "[[[[ 6 12 18]]\n",
      "\n",
      "  [[ 6 12 18]]\n",
      "\n",
      "  [[ 6 12 18]]]\n",
      "\n",
      "\n",
      " [[[ 6 12 18]]\n",
      "\n",
      "  [[ 6 12 18]]\n",
      "\n",
      "  [[ 6 12 18]]]]\n"
     ]
    }
   ],
   "source": [
    "x = [[[1,2,3],[1,2,3],[1,2,3]],[[1,2,3],[1,2,3],[1,2,3]]]\n",
    "y = [[[1,2,3],[1,2,3],[1,2,3]]]\n",
    "xArray = np.array(x)\n",
    "yArray = np.array(y)\n",
    "r = np.dot(xArray, yArray)\n",
    "\n",
    "print(r)"
   ]
  },
  {
   "cell_type": "code",
   "execution_count": null,
   "metadata": {},
   "outputs": [],
   "source": []
  }
 ],
 "metadata": {
  "kernelspec": {
   "display_name": ".venv",
   "language": "python",
   "name": "python3"
  },
  "language_info": {
   "codemirror_mode": {
    "name": "ipython",
    "version": 3
   },
   "file_extension": ".py",
   "mimetype": "text/x-python",
   "name": "python",
   "nbconvert_exporter": "python",
   "pygments_lexer": "ipython3",
   "version": "3.10.13"
  }
 },
 "nbformat": 4,
 "nbformat_minor": 2
}
